{
 "cells": [
  {
   "cell_type": "markdown",
   "metadata": {},
   "source": [
    "# Solving probability problems with simulations"
   ]
  },
  {
   "cell_type": "markdown",
   "metadata": {},
   "source": [
    "<span style='background :green' > Problem 1:</span>  Tossing a fair coin.\n",
    "\n",
    "We are going to calculate the probability of getting a HEAD after tossin a coin multiple times. The number of flips will vary for each experiment. We are going to perform 1000 experiments. For each experiment, the coin will be tossed N number of times.\n",
    "\n",
    "For instance, the coin will be tossed 1 time in experiment number 1.<br>\n",
    "The coin will be tossed 2 times in experiment number 2.<br>\n",
    "The coin will be tossed 3 times in experiment number 3.<br>\n",
    "and so on....<br>\n",
    "The coin will be tossed 1000 times in experiment number 1000. "
   ]
  },
  {
   "cell_type": "code",
   "execution_count": 1,
   "metadata": {},
   "outputs": [
    {
     "data": {
      "image/png": "[encoded data removed]",
      "text/plain": [
       "<Figure size 432x288 with 1 Axes>"
      ]
     },
     "metadata": {
      "needs_background": "light"
     },
     "output_type": "display_data"
    }
   ],
   "source": [
    "import random\n",
    "import numpy as np\n",
    "import matplotlib.pyplot as plt\n",
    "\n",
    "vp = [] # list that stores the probability of getting a head for each experiment\n",
    "vsim_N = [] # Number of times that the coin was tossed for each experiment (this also represents the number of each experimet)\n",
    "Nmax = 1000 # maximum number of simulations (this represents the total number of experiments)\n",
    "coin = ['H','T']\n",
    "for N in np.arange(1,Nmax):\n",
    "    nhead = 0\n",
    "    for i in range(1,N): # in this for loop we are actually \"flipping\" the coin N number of times\n",
    "        r = random.choice(coin) # randomly select an item from a list with equal probability for each item\n",
    "        if r == 'H':\n",
    "            nhead = nhead + 1\n",
    "    vp.append(nhead/N) # calculation of probability: number of heads divided by the number of times the coin was flipped\n",
    "    vsim_N.append(N)\n",
    "    \n",
    "    \n",
    "# Plotting the probability \n",
    "plt.figure()\n",
    "plt.plot(vsim_N,vp)\n",
    "plt.axhline(y=1/2, color='r', linestyle='--', label = 'theoretical value')\n",
    "plt.ylabel('fraction of heads')\n",
    "plt.xlabel('number of flips')\n",
    "plt.ylim([0.0,1.0])\n",
    "plt.show()\n",
    "        "
   ]
  },
  {
   "cell_type": "markdown",
   "metadata": {},
   "source": [
    "As the number of flips increases, the fraction of heads get closer to the theoretical value of 0.5. This follows the definition of probability of an event A to occur:\n",
    "$$\n",
    "P(A) = \\lim_{N\\rightarrow \\infty} \\frac{n_A}{N},\n",
    "$$\n",
    "where $N$ is the number of experiments."
   ]
  },
  {
   "cell_type": "markdown",
   "metadata": {},
   "source": [
    "Pela definição frequentista de probabilidades, vimos que a probabilidade de ocorrência de um evento $A$ é definida por:\n",
    "$$\n",
    "P(A) = \\lim_{n\\rightarrow \\infty} \\frac{n_A}{n},\n",
    "$$\n",
    "onde $n$ é o número de experimentos."
   ]
  },
  {
   "cell_type": "markdown",
   "metadata": {},
   "source": [
    "<span style='background :green' >Problem 2:</span> tossing two dices at the same time.\n",
    "\n",
    "Two dices are tossed at the same time. What is the probability:<br>\n",
    "a) that the sum of the faces are equal to 7 (event A).<br>\n",
    "b) to obtain a sum larger than 5 (event B).<br>"
   ]
  },
  {
   "cell_type": "code",
   "execution_count": 2,
   "metadata": {},
   "outputs": [
    {
     "name": "stdout",
     "output_type": "stream",
     "text": [
      "The probability of the sum be equal to 7 is: 0.166896\n",
      "The probability of the sum be larger than 5 is: 0.722796\n"
     ]
    }
   ],
   "source": [
    "import random\n",
    "import numpy as np\n",
    "\n",
    "dice1 = [1,2,3,4,5,6]\n",
    "dice2 = [1,2,3,4,5,6]\n",
    "\n",
    "N=1000000\n",
    "count_A = 0\n",
    "count_B = 0\n",
    "for i in range(N):\n",
    "    r1 = random.choice(dice1)\n",
    "    r2 = random.choice(dice2)\n",
    "    soma = r1+r2\n",
    "    if soma == 7:\n",
    "        count_A = count_A+1\n",
    "    if soma > 5:\n",
    "        count_B = count_B+1\n",
    "        \n",
    "print('The probability of the sum be equal to 7 is:',count_A/N)\n",
    "print('The probability of the sum be larger than 5 is:',count_B/N)"
   ]
  },
  {
   "cell_type": "markdown",
   "metadata": {},
   "source": [
    "The theoretical values are: \n",
    "$$\n",
    "P(A) = 1/6 = 0.166\n",
    "$$\n",
    "$$\n",
    "P(B) = 26/36 = 0.72.\n",
    "$$"
   ]
  },
  {
   "cell_type": "markdown",
   "metadata": {},
   "source": [
    "<span style='background :green' >Problem 4:</span> Tossing a dice.\n",
    "\n",
    "What is the probability that when tossing a dice, the outcome be even or larger than three?<br>\n",
    "The theoretical answer is 4/6 = 0.6667."
   ]
  },
  {
   "cell_type": "code",
   "execution_count": 3,
   "metadata": {},
   "outputs": [
    {
     "name": "stdout",
     "output_type": "stream",
     "text": [
      "answer: 0.667109\n"
     ]
    }
   ],
   "source": [
    "import random\n",
    "\n",
    "dice = range(1,7)\n",
    "N = 1000000\n",
    "\n",
    "count = 0\n",
    "for i in range(N):\n",
    "    r = random.choice(dice)\n",
    "    if (r%2 == 0) or (r > 3):\n",
    "        count = count+1\n",
    "        \n",
    "print('answer:',count/N)"
   ]
  },
  {
   "cell_type": "markdown",
   "metadata": {},
   "source": [
    "<span style='background :green' >Problem 5:</span> Raffle.\n",
    "\n",
    "A box used in a raffle contains 5 black balls numbered 1 to 5, seven white balls numbered 1 to 7, and eight red balls numbered 1 to 8. <br>\n",
    "i) Drawing a ball from this box, what is the probability of finding a black ball? Answer: $P(A)=5/20=0.25$<br>\n",
    "ii) Drawing a black ball, what is the probability that this ball is even? Answer: $P(B|A) = \\frac{2/20}{5/20} = \\frac{2}{5}= 0.4$\n",
    "\n"
   ]
  },
  {
   "cell_type": "code",
   "execution_count": 4,
   "metadata": {},
   "outputs": [
    {
     "name": "stdout",
     "output_type": "stream",
     "text": [
      "P(A) =  0.250205\n",
      "P(B|A) =  0.3982734157990448\n"
     ]
    }
   ],
   "source": [
    "black = ['P'+str(i) for i in range(1,6)]\n",
    "white = ['W'+str(i) for i in range(1,8)]\n",
    "red = ['R'+str(i) for i in range(1,9)]\n",
    "box = black+white+red\n",
    "nA = 0\n",
    "nB = 0\n",
    "\n",
    "N = 1000000\n",
    "for i in range(N):\n",
    "    r = random.choice(box)\n",
    "    if 'P' in r:\n",
    "        nA = nA+1\n",
    "        if int(r[1])%2 == 0:\n",
    "            nB = nB + 1\n",
    "        \n",
    "print('P(A) = ',nA/N)\n",
    "print('P(B|A) = ',nB/nA)"
   ]
  },
  {
   "cell_type": "markdown",
   "metadata": {},
   "source": [
    "<span style='background :green' >Problem 6:</span> Tossing two dices at the same time - PMF (probability mass function)\n",
    "\n",
    "Considering the roll of two dice, we define the random variable X as 1 when the sum of the dice values is even and as 0 otherwise. What is the probability distribution of X?"
   ]
  },
  {
   "cell_type": "code",
   "execution_count": 7,
   "metadata": {},
   "outputs": [
    {
     "data": {
      "image/png": "[encoded data removed]",
      "text/plain": [
       "<Figure size 432x288 with 1 Axes>"
      ]
     },
     "metadata": {
      "needs_background": "light"
     },
     "output_type": "display_data"
    }
   ],
   "source": [
    "import random\n",
    "import matplotlib.pyplot as plt\n",
    "import numpy as np\n",
    "\n",
    "dice1, dice2 = range(1,7) , range(1,7)\n",
    "N = 1000\n",
    "X = []\n",
    "for i in range(N):\n",
    "    r1 = random.choice(dice1)\n",
    "    r2 = random.choice(dice2)\n",
    "    soma = r1 + r2\n",
    "    if soma%2 == 0:\n",
    "        X.append(0)\n",
    "    else:\n",
    "        X.append(1)\n",
    "\n",
    "(counts, bins) = np.histogram(X,bins = [-0.5,0.5,1.5]) # I can also use 'density' parameter here\n",
    "\n",
    "factor = 1/N\n",
    "plt.hist(bins[:-1], bins,  color='skyblue', edgecolor='black', weights=factor*counts)\n",
    "#plt.hist(bins[:-1], bins,  color='skyblue', edgecolor='black', weights=counts, density=True) I could also use this line instead.\n",
    "#there is a slightly difference, but the first one is more intuitive and works in this case.\n",
    "plt.xlabel('X')\n",
    "plt.ylabel('probability')\n",
    "plt.xticks([0, 1])\n",
    "plt.show()\n"
   ]
  },
  {
   "cell_type": "code",
   "execution_count": 8,
   "metadata": {},
   "outputs": [
    {
     "data": {
      "image/png": "[encoded data removed]",
      "text/plain": [
       "<Figure size 432x288 with 1 Axes>"
      ]
     },
     "metadata": {
      "needs_background": "light"
     },
     "output_type": "display_data"
    }
   ],
   "source": [
    "#Following a different reasoning. I particularly prefer the one above.\n",
    "\n",
    "import random\n",
    "import matplotlib.pyplot as plt\n",
    "\n",
    "# Number of simulations\n",
    "N = 1000\n",
    "\n",
    "# Initialize counts for even and odd sums\n",
    "even_count = 0\n",
    "odd_count = 0\n",
    "\n",
    "# Simulate rolling two dice N times\n",
    "for _ in range(N):\n",
    "    dice1 = random.randint(1, 6)\n",
    "    dice2 = random.randint(1, 6)\n",
    "    if (dice1 + dice2) % 2 == 0:\n",
    "        even_count += 1\n",
    "    else:\n",
    "        odd_count += 1\n",
    "\n",
    "# Calculate probabilities\n",
    "even_probability = even_count / N\n",
    "odd_probability = odd_count / N\n",
    "\n",
    "# Plotting the probability distribution\n",
    "plt.bar(['Even', 'Odd'], [even_probability, odd_probability], color=['skyblue', 'lightcoral'])\n",
    "plt.xlabel('Sum Type')\n",
    "plt.ylabel('Probability')\n",
    "plt.title('Probability Distribution of Sum Type (Even or Odd) - Simulation')\n",
    "plt.show()\n"
   ]
  },
  {
   "cell_type": "markdown",
   "metadata": {},
   "source": [
    "As the number of experiments, N, increases, the PDF get closer to the real PDF."
   ]
  },
  {
   "cell_type": "markdown",
   "metadata": {},
   "source": [
    "<span style='background :green' >Problem 7:</span>\n",
    "\n",
    "When two coins are tossed, let X be the random variable indicating the number of heads. Determine the probability distribution of X."
   ]
  },
  {
   "cell_type": "code",
   "execution_count": 9,
   "metadata": {},
   "outputs": [
    {
     "data": {
      "text/plain": [
       "<function matplotlib.pyplot.show(close=None, block=None)>"
      ]
     },
     "execution_count": 9,
     "metadata": {},
     "output_type": "execute_result"
    },
    {
     "data": {
      "image/png": "[encoded data removed]",
      "text/plain": [
       "<Figure size 432x288 with 1 Axes>"
      ]
     },
     "metadata": {
      "needs_background": "light"
     },
     "output_type": "display_data"
    }
   ],
   "source": [
    "import random\n",
    "import matplotlib.pyplot as plt\n",
    "import numpy as np\n",
    "\n",
    "coin1 = ['H','T']\n",
    "coin2 = ['H','T']\n",
    "X = []\n",
    "N = 10000\n",
    "for i in range(N):\n",
    "    r1 = random.choice(coin1)\n",
    "    r2 = random.choice(coin2)\n",
    "    s = r1+r2 # create a string with the result\n",
    "    n_heads = s.count('H')\n",
    "    #n_tails = s.count('T')\n",
    "    X.append(n_heads)\n",
    "    \n",
    "(counts, bins) = np.histogram(X, bins = [-0.5,0.5,1.5,2.5],density = True)\n",
    "\n",
    "plt.hist(bins[:-1],bins,weights=counts,  color='skyblue', edgecolor='black')\n",
    "plt.xticks([0,1,2])\n",
    "plt.show\n",
    "    "
   ]
  },
  {
   "cell_type": "markdown",
   "metadata": {},
   "source": [
    "Answer: <br>\n",
    "$P(X=0) = 1/4$<br>\n",
    "$P(X=1) = 1/2$<br>\n",
    "$P(X=2) = 1/4$"
   ]
  },
  {
   "cell_type": "markdown",
   "metadata": {},
   "source": [
    "<span style='background :green' >Nothing important below.</span>\n",
    "\n",
    "The following codes are just to practice a little bit of ploting histograms. "
   ]
  },
  {
   "cell_type": "code",
   "execution_count": 10,
   "metadata": {},
   "outputs": [
    {
     "name": "stdout",
     "output_type": "stream",
     "text": [
      "[   0    0    0    0    0    0    0    0    0    0    0    0    0    0\n",
      "    0    1    3    7   15   36   50  114  175  253  389  520  660  824\n",
      "  898 1017  997  937  850  675  520  353  278  189  121   54   30   16\n",
      "    8    5    3    1    1    0    0    0    0    0    0    0    0    0\n",
      "    0    0    0]\n"
     ]
    },
    {
     "data": {
      "image/png": "[encoded data removed]",
      "text/plain": [
       "<Figure size 432x288 with 1 Axes>"
      ]
     },
     "metadata": {
      "needs_background": "light"
     },
     "output_type": "display_data"
    },
    {
     "data": {
      "image/png": "[encoded data removed]",
      "text/plain": [
       "<Figure size 432x288 with 1 Axes>"
      ]
     },
     "metadata": {
      "needs_background": "light"
     },
     "output_type": "display_data"
    }
   ],
   "source": [
    "from matplotlib import pyplot\n",
    "import numpy\n",
    "\n",
    "N = 10000\n",
    "numpy.random.seed(1)\n",
    "data = numpy.random.normal(50, 20, N)\n",
    "(counts, bins) = numpy.histogram(data, bins=range(-100,200,5))\n",
    "print(counts)\n",
    "\n",
    "pyplot.hist(bins[:-1], bins, weights=counts/N)\n",
    "pyplot.show()\n",
    "\n",
    "pyplot.hist(bins[:-1], bins, weights=counts, density=True)\n",
    "pyplot.show()\n",
    "\n",
    "#note the difference between the histograms. If the width of the bins were equal to 1, the histograms would be the same. \n",
    "#Only the second histogram really represents the pdf. \n",
    "#But the first histogram is good to see the the proportion of the data\n",
    "\n",
    "\n",
    "#Check the following link to see the discussion on how to normalize histograms:\n",
    "#https://www.itl.nist.gov/div898/handbook/eda/section3/histogra.htm#:~:text=The%20normalized%20count%20is%20the%20count%20in%20the%20class%20divided,histogram%20is%20equal%20to%20one."
   ]
  },
  {
   "cell_type": "code",
   "execution_count": 11,
   "metadata": {},
   "outputs": [
    {
     "data": {
      "text/plain": [
       "array([-100,  -95,  -90])"
      ]
     },
     "execution_count": 11,
     "metadata": {},
     "output_type": "execute_result"
    }
   ],
   "source": [
    "bins[0:3]"
   ]
  },
  {
   "cell_type": "code",
   "execution_count": 12,
   "metadata": {},
   "outputs": [
    {
     "name": "stdout",
     "output_type": "stream",
     "text": [
      "0.0\n"
     ]
    }
   ],
   "source": [
    "integral = np.trapz(counts[0:2],x = bins[:3])\n",
    "print(integral)"
   ]
  },
  {
   "cell_type": "code",
   "execution_count": 13,
   "metadata": {},
   "outputs": [
    {
     "data": {
      "text/plain": [
       "array([-100,  -95,  -90,  -85,  -80,  -75,  -70,  -65,  -60,  -55,  -50,\n",
       "        -45,  -40,  -35,  -30,  -25,  -20,  -15,  -10,   -5,    0,    5,\n",
       "         10,   15,   20,   25,   30,   35,   40,   45,   50,   55,   60,\n",
       "         65,   70,   75,   80,   85,   90,   95,  100,  105,  110,  115,\n",
       "        120,  125,  130,  135,  140,  145,  150,  155,  160,  165,  170,\n",
       "        175,  180,  185,  190])"
      ]
     },
     "execution_count": 13,
     "metadata": {},
     "output_type": "execute_result"
    }
   ],
   "source": [
    "bins[0:-1]"
   ]
  }
 ],
 "metadata": {
  "kernelspec": {
   "display_name": "Python 3",
   "language": "python",
   "name": "python3"
  },
  "language_info": {
   "codemirror_mode": {
    "name": "ipython",
    "version": 3
   },
   "file_extension": ".py",
   "mimetype": "text/x-python",
   "name": "python",
   "nbconvert_exporter": "python",
   "pygments_lexer": "ipython3",
   "version": "3.9.7"
  }
 },
 "nbformat": 4,
 "nbformat_minor": 2
}
